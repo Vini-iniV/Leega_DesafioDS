{
 "cells": [
  {
   "cell_type": "markdown",
   "id": "3be75b0b",
   "metadata": {},
   "source": [
    "# Housing Prices - Exercício de Machine Learning\n",
    "\n",
    "### O problema central é tentar prever o preço médio de uma casa em uma determinada região, atráves de uma base de dados com os preços dos anos anteriores. Isso pode servir como base para alguém que quer saber, por exemplo, qual a melhor região para se investir em imóveis, visando o lucro com uma venda futura."
   ]
  },
  {
   "cell_type": "markdown",
   "id": "c96af57b",
   "metadata": {},
   "source": [
    "## Importando as Bibliotecas:"
   ]
  },
  {
   "cell_type": "code",
   "execution_count": null,
   "id": "95ace30e",
   "metadata": {},
   "outputs": [],
   "source": [
    "import pandas as pd\n",
    "import seaborn as sns\n",
    "import matplotlib.pyplot as plt\n",
    "from sklearn.model_selection import train_test_split\n",
    "from sklearn import tree\n",
    "from sklearn.tree import DecisionTreeRegressor\n",
    "from sklearn.metrics import r2_score"
   ]
  },
  {
   "cell_type": "markdown",
   "id": "300dc349",
   "metadata": {},
   "source": [
    "## Carregando o Dataset:"
   ]
  },
  {
   "cell_type": "code",
   "execution_count": null,
   "id": "b75b40e6",
   "metadata": {},
   "outputs": [],
   "source": [
    "casas = pd.read_csv('Downloads\\housing.csv')\n",
    "casas.head()"
   ]
  },
  {
   "cell_type": "markdown",
   "id": "842a2cd9",
   "metadata": {},
   "source": [
    "## Analisando o Dataset:"
   ]
  },
  {
   "cell_type": "code",
   "execution_count": null,
   "id": "42ca5e0f",
   "metadata": {},
   "outputs": [],
   "source": [
    "casas.dtypes"
   ]
  },
  {
   "cell_type": "code",
   "execution_count": null,
   "id": "7e870716",
   "metadata": {
    "scrolled": true
   },
   "outputs": [],
   "source": [
    "casas.describe()"
   ]
  },
  {
   "cell_type": "markdown",
   "id": "d33fbfef",
   "metadata": {},
   "source": [
    "#### Como o describe mostrou, a única coluna que não está completa é a total_bedrooms, com 207 valores nulos. Como esse valor é baixo quando comparado á quantidade de linhas na tabela(<1%), vou excluir:"
   ]
  },
  {
   "cell_type": "code",
   "execution_count": null,
   "id": "0e7f278a",
   "metadata": {},
   "outputs": [],
   "source": [
    "casas = casas.dropna()"
   ]
  },
  {
   "cell_type": "markdown",
   "id": "1e703c8f",
   "metadata": {},
   "source": [
    "## Verificando Se Não Há Mais Valores Nulos:"
   ]
  },
  {
   "cell_type": "code",
   "execution_count": null,
   "id": "6acff55c",
   "metadata": {},
   "outputs": [],
   "source": [
    "casas.isnull().sum()"
   ]
  },
  {
   "cell_type": "code",
   "execution_count": null,
   "id": "adaab02b",
   "metadata": {},
   "outputs": [],
   "source": [
    "casas.shape"
   ]
  },
  {
   "cell_type": "markdown",
   "id": "57e5f8b3",
   "metadata": {},
   "source": [
    "## Fazendo a Correlação dos Dados:"
   ]
  },
  {
   "cell_type": "code",
   "execution_count": null,
   "id": "b46d4baa",
   "metadata": {},
   "outputs": [],
   "source": [
    "plt.figure(figsize = (20,12))\n",
    "plt.title('Correlação das Variáveis')\n",
    "plt.style.use('ggplot')\n",
    "sns.heatmap(casas.corr(), linewidths = 1, cmap='rocket_r', annot=True);"
   ]
  },
  {
   "cell_type": "code",
   "execution_count": null,
   "id": "f3409be7",
   "metadata": {},
   "outputs": [],
   "source": [
    "plt.figure(figsize = (15,8))\n",
    "plt.title(\"Proximidade Com o Mar X Valor Médio da Residência\")\n",
    "plt.xlabel(\" \")\n",
    "plt.ylabel(\"Valor Médio da Residência\")\n",
    "sns.barplot(x=\"ocean_proximity\", y=\"median_house_value\", data=casas, order=['INLAND', '<1H OCEAN', 'NEAR OCEAN', 'NEAR BAY', 'ISLAND']);"
   ]
  },
  {
   "cell_type": "code",
   "execution_count": null,
   "id": "91309d98",
   "metadata": {},
   "outputs": [],
   "source": [
    "casas['ocean_proximity'].value_counts()"
   ]
  },
  {
   "cell_type": "markdown",
   "id": "82f11d5d",
   "metadata": {},
   "source": [
    "#### Percebe-se que enquanto as casas que ficam em ilhas são as que possuem maior valor, a maioria das casas são aquelas que ficam á menos de uma hora do oceano. Além, os valores em ocean_proximity se repetem várias vezes, o que indica que são uma categoria."
   ]
  },
  {
   "cell_type": "code",
   "execution_count": null,
   "id": "d523b812",
   "metadata": {},
   "outputs": [],
   "source": []
  },
  {
   "cell_type": "markdown",
   "id": "82f56ed3",
   "metadata": {},
   "source": [
    "## Algumas Correlações:"
   ]
  },
  {
   "cell_type": "code",
   "execution_count": null,
   "id": "ad1a3d7a",
   "metadata": {},
   "outputs": [],
   "source": [
    "plt.scatter(casas['longitude'], casas['latitude'])\n",
    "plt.title('Distribuição das residências')\n",
    "plt.show()"
   ]
  },
  {
   "cell_type": "code",
   "execution_count": null,
   "id": "759c10cb",
   "metadata": {},
   "outputs": [],
   "source": [
    "plt.scatter(casas['median_income'] * 10000, casas['median_house_value'])\n",
    "plt.title('Relação entre o valor médio da casa e a renda')\n",
    "plt.show()"
   ]
  },
  {
   "cell_type": "markdown",
   "id": "4aafeb9d",
   "metadata": {},
   "source": [
    "## Análise da Coluna de Total de Quartos:"
   ]
  },
  {
   "cell_type": "code",
   "execution_count": null,
   "id": "ecf0fed1",
   "metadata": {},
   "outputs": [],
   "source": [
    "casas['total_rooms'].describe()"
   ]
  },
  {
   "cell_type": "code",
   "execution_count": null,
   "id": "3753cce6",
   "metadata": {},
   "outputs": [],
   "source": [
    "casas[casas['total_rooms']>30000].count()"
   ]
  },
  {
   "cell_type": "markdown",
   "id": "fbb13e08",
   "metadata": {},
   "source": [
    "#### Como pode-se ver, dos 20433 distritos registrados, apenas 7 possuem um número total de quartos acima de 30000, mas vou considerar."
   ]
  },
  {
   "cell_type": "markdown",
   "id": "d5511d4f",
   "metadata": {},
   "source": [
    "## Histogramas:"
   ]
  },
  {
   "cell_type": "code",
   "execution_count": null,
   "id": "57e3c6b0",
   "metadata": {},
   "outputs": [],
   "source": [
    "casas.hist(figsize=(20, 20))"
   ]
  },
  {
   "cell_type": "code",
   "execution_count": null,
   "id": "05629d61",
   "metadata": {},
   "outputs": [],
   "source": [
    "sns.histplot(casas['housing_median_age'])"
   ]
  },
  {
   "cell_type": "code",
   "execution_count": null,
   "id": "4efe4652",
   "metadata": {},
   "outputs": [],
   "source": [
    "sns.histplot(casas['median_income'])"
   ]
  },
  {
   "cell_type": "code",
   "execution_count": null,
   "id": "87f119e4",
   "metadata": {},
   "outputs": [],
   "source": [
    "sns.histplot(casas['total_rooms'])"
   ]
  },
  {
   "cell_type": "code",
   "execution_count": null,
   "id": "36ab0b17",
   "metadata": {},
   "outputs": [],
   "source": [
    "casas.describe()"
   ]
  },
  {
   "cell_type": "markdown",
   "id": "8f715793",
   "metadata": {},
   "source": [
    "## Criando Previsores:"
   ]
  },
  {
   "cell_type": "code",
   "execution_count": null,
   "id": "2a51a47c",
   "metadata": {},
   "outputs": [],
   "source": [
    "previsores = casas.drop(columns='median_house_value')\n",
    "previsores.head()"
   ]
  },
  {
   "cell_type": "markdown",
   "id": "4d27aa85",
   "metadata": {},
   "source": [
    "## Criando a Classe:"
   ]
  },
  {
   "cell_type": "code",
   "execution_count": null,
   "id": "0514d9c7",
   "metadata": {},
   "outputs": [],
   "source": [
    "classe = casas['median_house_value']\n",
    "classe.head()"
   ]
  },
  {
   "cell_type": "code",
   "execution_count": null,
   "id": "19536237",
   "metadata": {},
   "outputs": [],
   "source": [
    "previsores.shape"
   ]
  },
  {
   "cell_type": "markdown",
   "id": "016b366a",
   "metadata": {},
   "source": [
    "## Separando os Dados em Treino e Teste:"
   ]
  },
  {
   "cell_type": "code",
   "execution_count": null,
   "id": "ff06bd87",
   "metadata": {},
   "outputs": [],
   "source": [
    "X_treino, X_teste, y_treino, y_teste = train_test_split(previsores, classe, test_size = 0.15, random_state = 0)"
   ]
  },
  {
   "cell_type": "code",
   "execution_count": null,
   "id": "e2b36150",
   "metadata": {},
   "outputs": [],
   "source": [
    "X_treino.shape"
   ]
  },
  {
   "cell_type": "code",
   "execution_count": null,
   "id": "842e496c",
   "metadata": {},
   "outputs": [],
   "source": [
    "X_teste.shape"
   ]
  },
  {
   "cell_type": "code",
   "execution_count": null,
   "id": "bbe8642e",
   "metadata": {},
   "outputs": [],
   "source": [
    "y_treino.shape"
   ]
  },
  {
   "cell_type": "code",
   "execution_count": null,
   "id": "fb5f489e",
   "metadata": {},
   "outputs": [],
   "source": [
    "y_teste.shape"
   ]
  },
  {
   "cell_type": "markdown",
   "id": "ab31667b",
   "metadata": {},
   "source": [
    "#### Arrumando a coluna de proximidade com o oceano, já que é uma categoria, conforme indicado previamente."
   ]
  },
  {
   "cell_type": "code",
   "execution_count": null,
   "id": "0727dd32",
   "metadata": {},
   "outputs": [],
   "source": [
    "X_treino = pd.get_dummies(X_treino)"
   ]
  },
  {
   "cell_type": "code",
   "execution_count": null,
   "id": "765ec28a",
   "metadata": {},
   "outputs": [],
   "source": [
    "list(X_treino.columns)"
   ]
  },
  {
   "cell_type": "code",
   "execution_count": null,
   "id": "efb3c9f6",
   "metadata": {},
   "outputs": [],
   "source": [
    "X_teste = pd.get_dummies(X_teste)"
   ]
  },
  {
   "cell_type": "code",
   "execution_count": null,
   "id": "0dab0864",
   "metadata": {},
   "outputs": [],
   "source": [
    "list(X_teste.columns)"
   ]
  },
  {
   "cell_type": "markdown",
   "id": "37623ade",
   "metadata": {},
   "source": [
    "## Árvore de Decisão:"
   ]
  },
  {
   "cell_type": "code",
   "execution_count": null,
   "id": "fe4707fc",
   "metadata": {},
   "outputs": [],
   "source": [
    "destree = DecisionTreeRegressor(random_state=42)\n",
    "destree.fit(X_treino, y_treino)"
   ]
  },
  {
   "cell_type": "code",
   "execution_count": null,
   "id": "829bdd09",
   "metadata": {},
   "outputs": [],
   "source": [
    "X_treino.shape"
   ]
  },
  {
   "cell_type": "code",
   "execution_count": null,
   "id": "d5a3e362",
   "metadata": {},
   "outputs": [],
   "source": [
    "previsoes = destree.predict(X_teste)\n",
    "previsoes"
   ]
  },
  {
   "cell_type": "code",
   "execution_count": null,
   "id": "d249cee3",
   "metadata": {},
   "outputs": [],
   "source": [
    "print('Acurácia da Árvore de Decisão: ' + str(r2_score(y_teste, previsoes)*100) + '%')"
   ]
  },
  {
   "cell_type": "markdown",
   "id": "3f1639ce",
   "metadata": {},
   "source": [
    "## Random Forest:"
   ]
  },
  {
   "cell_type": "code",
   "execution_count": null,
   "id": "bb50a010",
   "metadata": {},
   "outputs": [],
   "source": [
    "from sklearn.ensemble import RandomForestRegressor\n",
    "frt = RandomForestRegressor(n_estimators = 200)\n",
    "frt.fit(X_treino, y_treino)"
   ]
  },
  {
   "cell_type": "code",
   "execution_count": null,
   "id": "ced5cad6",
   "metadata": {},
   "outputs": [],
   "source": [
    "previsoes2 = frt.predict(X_teste)\n",
    "previsoes2"
   ]
  },
  {
   "cell_type": "code",
   "execution_count": null,
   "id": "484c6386",
   "metadata": {},
   "outputs": [],
   "source": [
    "print('Acurácia da Random Forest: ' + str(r2_score(y_teste, previsoes2)*100) + '%')"
   ]
  },
  {
   "cell_type": "markdown",
   "id": "85c1def6",
   "metadata": {},
   "source": [
    "#### Como podemos ver, o modelo de Árvore de Decisão não se sai tão bem nessa situação, possuindo apenas 65% de precisão. No entanto, ao usarmos a Random Forest, a precisão se aproxima dos 82%, que é um valor mais aceitável e próximo do real."
   ]
  }
 ],
 "metadata": {
  "kernelspec": {
   "display_name": "Python 3",
   "language": "python",
   "name": "python3"
  },
  "language_info": {
   "codemirror_mode": {
    "name": "ipython",
    "version": 3
   },
   "file_extension": ".py",
   "mimetype": "text/x-python",
   "name": "python",
   "nbconvert_exporter": "python",
   "pygments_lexer": "ipython3",
   "version": "3.8.8"
  }
 },
 "nbformat": 4,
 "nbformat_minor": 5
}
